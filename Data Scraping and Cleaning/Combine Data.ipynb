{
 "cells": [
  {
   "cell_type": "code",
   "execution_count": 2,
   "metadata": {},
   "outputs": [],
   "source": [
    "import pandas as pd\n",
    "import numpy as np"
   ]
  },
  {
   "cell_type": "markdown",
   "metadata": {},
   "source": [
    "# Clean and Combine Data\n",
    "##### The following is cleaning and preparing data. It is already done. Please do not run it again."
   ]
  },
  {
   "cell_type": "code",
   "execution_count": 3,
   "metadata": {},
   "outputs": [],
   "source": [
    "# Load and clean data from Steam Charts data file, scrapped by Alex. Do not run this again.\n",
    "data = pd.read_csv('GamesData.csv',index_col=False)\n",
    "\n",
    "# Clean data\n",
    "data = data.iloc[2:].reset_index(drop=True)#.drop(columns='Unnamed: 0')\n",
    "\n",
    "# Make percentile into number and clear \"-\"\n",
    "data = data.replace(to_replace='%', value='', regex=True).replace({'-':'NaN'})\n",
    "data = data[2:].reset_index(drop=True).drop(columns='Unnamed: 0')\n",
    "\n",
    "data = data.rename(columns=lambda x: x.replace('_', ' '))\n",
    "data = data.rename(columns={'App id':'App_id','Avg Players':'Avg_Players', 'Peak Players':'Peak_Players','Perc Gain': 'Perc_Gain'}, errors=\"raise\")\n",
    "\n",
    "# Save the cleaned data as 'SteamCharts.csv'\n",
    "data.to_csv('SteamCharts.csv',index=False)"
   ]
  },
  {
   "cell_type": "code",
   "execution_count": 3,
   "metadata": {},
   "outputs": [],
   "source": [
    "# Load data from 'SteamCharts.csv' data file\n",
    "data = pd.read_csv('SteamCharts.csv',index_col=False,low_memory=False)\n",
    "\n",
    "# Get Perc_Gain.\n",
    "p_gain = data.loc[data['Perc_Gain']==1]\n",
    "p_gain = p_gain.drop(columns=['Avg_Players', 'Gain', 'Perc_Gain', 'Peak_Players','Last 30 Days'])\n",
    "p_gain_pure = p_gain.drop(columns=['App_id', 'Name']).astype(float)\n",
    "\n",
    "# Get Avg_Players.\n",
    "avg_players = data.loc[data['Avg_Players']==1]\n",
    "avg_players = avg_players.drop(columns=['Avg_Players', 'Gain', 'Perc_Gain', 'Peak_Players','Last 30 Days'])\n",
    "avg_pure = avg_players.drop(columns=['App_id', 'Name']).astype(float)\n",
    "\n",
    "# Get Peak_Players.\n",
    "peak_players = data.loc[data['Peak_Players']==1]\n",
    "peak_players = peak_players.drop(columns=['Avg_Players', 'Gain', 'Perc_Gain', 'Peak_Players','Last 30 Days'])\n",
    "peak_pure = peak_players.drop(columns=['App_id', 'Name']).astype(float)\n",
    "\n",
    "# Add columns of max and mean\n",
    "avg_players['max'] = avg_pure.max(axis=1)\n",
    "avg_players['mean'] = avg_pure.mean(axis=1)\n",
    "\n",
    "peak_players['peak_max'] = peak_pure.max(axis=1)\n",
    "peak_players['peak_mean'] = peak_pure.mean(axis=1)"
   ]
  },
  {
   "cell_type": "code",
   "execution_count": 4,
   "metadata": {},
   "outputs": [],
   "source": [
    "# Load data from Steam Spy data files. Do not run this, or download 'steamspy_owners.csv' and 'games-features-metacritic-new.csv' before you run:\n",
    "steamspy = pd.read_csv('steamspy_owners.csv')\n",
    "steamspy = steamspy.rename(columns={'QueryID':'App_id','0':'SteamSpyOwnersNew'}, errors=\"raise\")\n",
    "\n",
    "features = pd.read_csv('games-features-metacritic-new.csv',index_col=False)\n",
    "features = features.drop_duplicates(subset=['QueryID','QueryName'], keep='first', inplace=False, ignore_index=False)\n",
    "features = features.drop(columns=['ResponseID', 'ResponseName'])\n",
    "features = features.rename(columns={'QueryID':'App_id','QueryName':'Name'}, errors=\"raise\")\n",
    "\n",
    "# Combine data from Steam Charts and Steam Spy, order it by 'max' and save it as 'AllData.csv'\n",
    "data_all = pd.merge(features, steamspy[['App_id','SteamSpyOwnersNew']], how='inner', on=['App_id'])\n",
    "data_all = pd.merge(data_all, peak_players[['App_id','peak_max','peak_mean']], how='inner', on=['App_id'])\n",
    "data_all = pd.merge(data_all, avg_players[['App_id','max','mean']], how='inner', on=['App_id'])\n",
    "data_all.sort_values(by=['max'], ascending=False, inplace=True)\n",
    "\n",
    "data_all.reset_index(drop=True).drop(columns='Unnamed: 0').drop_duplicates(subset=['Name'], keep='first', inplace=False, ignore_index=False).to_csv('AllData.csv',index=False)"
   ]
  },
  {
   "cell_type": "markdown",
   "metadata": {},
   "source": [
    "# Explanation of the data"
   ]
  },
  {
   "cell_type": "markdown",
   "metadata": {},
   "source": [
    "The file `SteamCharts.csv` contains monthly data during July 2012 to April 2021 including\n",
    "- 'Avg_Players': the daily average number of players per month; \n",
    "- 'Peak_Players': the daily peak number of players per month;\n",
    "- 'Gain'\n",
    "- 'Perc_Gain'  \n",
    "\n",
    "obtained from [Steam Charts](https://steamcharts.com/).\n",
    "\n",
    "The file `AllData.csv` contains 70+ game features (obtained from [Steam Spy](https://steamspy.com/)), together with the max and mean of 'Avg_Players' and the max and mean of 'Peak_Players'. This file is a combination of Steam Spy data and Steam Charts data through the common 'App_id's. It is currently sorted by the max of 'Avg_Players'.\n"
   ]
  },
  {
   "cell_type": "code",
   "execution_count": null,
   "metadata": {},
   "outputs": [],
   "source": []
  }
 ],
 "metadata": {
  "kernelspec": {
   "display_name": "Python 3",
   "language": "python",
   "name": "python3"
  },
  "language_info": {
   "codemirror_mode": {
    "name": "ipython",
    "version": 3
   },
   "file_extension": ".py",
   "mimetype": "text/x-python",
   "name": "python",
   "nbconvert_exporter": "python",
   "pygments_lexer": "ipython3",
   "version": "3.8.5"
  }
 },
 "nbformat": 4,
 "nbformat_minor": 4
}
